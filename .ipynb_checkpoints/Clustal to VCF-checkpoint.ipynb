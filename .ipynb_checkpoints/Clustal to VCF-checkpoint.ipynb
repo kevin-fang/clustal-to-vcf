{
 "cells": [
  {
   "cell_type": "code",
   "execution_count": 1,
   "metadata": {
    "collapsed": true
   },
   "outputs": [],
   "source": [
    "with open('clustal_out.aligned') as clustal_out:\n",
    "    clustal_output = clustal_out.read()"
   ]
  },
  {
   "cell_type": "code",
   "execution_count": 2,
   "metadata": {
    "collapsed": true
   },
   "outputs": [],
   "source": [
    "outputs = clustal_output.split(\">\")[1:]\n",
    "new_seq = []\n",
    "for output in outputs:\n",
    "    lines = output.split('\\n')\n",
    "    seq_id = lines[0]\n",
    "    sequence = \"\".join(lines[1:])\n",
    "    \n",
    "    new_seq.append((seq_id, sequence))"
   ]
  },
  {
   "cell_type": "code",
   "execution_count": 3,
   "metadata": {
    "scrolled": true
   },
   "outputs": [
    {
     "data": {
      "text/plain": [
       "[('01c4.00.0369.000+1,60fe6d1a287c91939b151001adfdeada',\n",
       "  'ttcactgttcggggccactagcaacaaagcttctgtaaacactcatgtgcaggtatttgtggacctgtgttttcatttcccttgagtaaataccaaggaatggaaaagatgggtcatatggtaagtgtatgtttaactttgtaagaaactgccaaactgtgttccaaagtggtgactgaattttccattcccgccaggaatgtacgagaaccacagtccttgccaacacttgatggtcactcttttatc-----------------------------------------------------------------------------------------------------------------------------------------------------------------------------------------------------------------------------------------------------------------------------------------------------------------------------------------------------------------------------------------------------------------------------------------------------------------------------------------------------------------------------------------------------------------------------------------------------------------------------------------------------------------------'),\n",
       " ('01c4.00.0369.001+1,7214c84c18b994abdd0dbf6a176a7407',\n",
       "  'ttcactgttcggggccactagcaacaaagcttctgtaaacactcatgtgcaggtatttgtggacctgtgttttcatttcccttgagtaaataccaaggaatggaaaagatgggtcatatggtaagtgtatgtttaactttgtaagaa--------actgtgttccaaagtggtgactgaattttccattcccgccaggaatgtacgagaaccacagtccttgccaacacttgatggtcactcttttatc-----------------------------------------------------------------------------------------------------------------------------------------------------------------------------------------------------------------------------------------------------------------------------------------------------------------------------------------------------------------------------------------------------------------------------------------------------------------------------------------------------------------------------------------------------------------------------------------------------------------------------------------------------------------------'),\n",
       " ('01c4.00.0369.002+1,34c37138df011524d54aec04d3f2d723',\n",
       "  'ttcactgttcggggccactagcaacaaagcttctgtaaacactcatgtgcaggtatttgtggacctgtgttttcatttcccttgagtaaataccaaggaatggaaaagatgggtcatatggtaagtgtatgtttaactttgtaagaaactgccaaactgtgttccaaagtggtgactgaattttccattcccaccaggaatgtacgagaaccacagtccttgccaacacttgatggtcactcttttatc-----------------------------------------------------------------------------------------------------------------------------------------------------------------------------------------------------------------------------------------------------------------------------------------------------------------------------------------------------------------------------------------------------------------------------------------------------------------------------------------------------------------------------------------------------------------------------------------------------------------------------------------------------------------------'),\n",
       " ('01c4.00.0369.003+1,bc42c6d168b007e5278f4308fd4db955',\n",
       "  'ttcactgttcggggccactagcaacaaagcttctgtaaacactcatgtgcaggtatttgtggacctgtgtcttcatttcccttgagtaaataccaaggaatggaaaagatgggtcatatggtaagtgtatgtttaactttgtaagaaactgccaaactgtgttccaaagtggtgactgaattttccattcccgccaggaatgtacgagaaccacagtccttgccaacacttgatggtcactcttttatc-----------------------------------------------------------------------------------------------------------------------------------------------------------------------------------------------------------------------------------------------------------------------------------------------------------------------------------------------------------------------------------------------------------------------------------------------------------------------------------------------------------------------------------------------------------------------------------------------------------------------------------------------------------------------'),\n",
       " ('01c4.00.0369.004+1,dbac4cca74cdfeecc02209020cf2529b',\n",
       "  'ttcactgttcggggccactagcaacaaagcttctgtaaacactcatgtgcaggtatttgtggacctgtgtcttcatttcccttgagtaaataccaaggaatggaaaagatgggtcatatggtaagtgtatgtttaactttgtaagaa--------actgtgttccaaagtggtgactgaattttccattcccgccaggaatgtacgagaaccacagtccttgccaacacttgatggtcactcttttatc-----------------------------------------------------------------------------------------------------------------------------------------------------------------------------------------------------------------------------------------------------------------------------------------------------------------------------------------------------------------------------------------------------------------------------------------------------------------------------------------------------------------------------------------------------------------------------------------------------------------------------------------------------------------------'),\n",
       " ('01c4.00.0369.005+2,10bbbac9978c3fa024c501b33bd66c1e',\n",
       "  'ttcactgttcggggccactagcaacaaagcttctgtaaacactcatgtgcaggtatttgtggacctgtgttttcatttcccttgagtaaataccaaggaatggaaaagatgggtcatatggtaagtgtatgtttaactttgtaagaa--------actgtgttccaaagtggtgactgaattttccattcccgccaggaatgtacgagaaccacagtccttgccaacacttgatggtcactctttttatcctttagccatgctagtggatgaggagtggtatctaagtgtgtccaatgactaaggaggtaaatcatcttttcatgtatttattggccatttgcttgcttcttatgaagcctgtccagatctttagctcattttattatttatttatttatttatttacttatatatatttttggggggcacagtcccactccagttgcccaggctggagtgtggtggcatgatcatggctcactacagcctcgacttcctgggctcaggtgatcctcccacctcagccttttgagtagctgagactataggcatgcaccacatctagctgattttttgtggttttggtagagatggggtttcaccatgttgcccaggctggtcttgaactcctgggcttaagcaatccacctgcctcagcctcccaatgtgctgggattacaggcataagccacctcacctggccctctatttttattttttttagacaggatcttactctgtcacccaggctggagtgcagtggcacgatcacagctcgctgcaacctcgaactcctgagcttaagtgatctttccccctcagcctcctgattaggtgggactacagacatgcaccaacatgcccggctaattattctactttttgtagacactg')]"
      ]
     },
     "execution_count": 3,
     "metadata": {},
     "output_type": "execute_result"
    }
   ],
   "source": [
    "new_seq"
   ]
  },
  {
   "cell_type": "code",
   "execution_count": 7,
   "metadata": {
    "scrolled": true
   },
   "outputs": [],
   "source": [
    "new_output = []\n",
    "for seq_id, sequence in new_seq:\n",
    "    seq = sequence.replace(\"\\n\", \"\")\n",
    "\n",
    "    old_len = len(seq)\n",
    "\n",
    "    # get rid of trailing hyphens - replace with space, then strip whitespace\n",
    "    trail_stripped = sequence.replace(\"-\", \" \").rstrip()\n",
    "    num_trailing_hyphens = old_len - len(trail_stripped)\n",
    "\n",
    "    trail_stripped = trail_stripped + (\"~\" * num_trailing_hyphens)\n",
    "\n",
    "    final_seq = trail_stripped.replace(\" \", \".\")\n",
    "    new_output.append(\">{}\\n{}\".format(seq_id, final_seq))"
   ]
  },
  {
   "cell_type": "code",
   "execution_count": 10,
   "metadata": {},
   "outputs": [
    {
     "data": {
      "text/plain": [
       "'>01c4.00.0369.000+1,60fe6d1a287c91939b151001adfdeada\\nttcactgttcggggccactagcaacaaagcttctgtaaacactcatgtgcaggtatttgtggacctgtgttttcatttcccttgagtaaataccaaggaatggaaaagatgggtcatatggtaagtgtatgtttaactttgtaagaaactgccaaactgtgttccaaagtggtgactgaattttccattcccgccaggaatgtacgagaaccacagtccttgccaacacttgatggtcactcttttatc~~~~~~~~~~~~~~~~~~~~~~~~~~~~~~~~~~~~~~~~~~~~~~~~~~~~~~~~~~~~~~~~~~~~~~~~~~~~~~~~~~~~~~~~~~~~~~~~~~~~~~~~~~~~~~~~~~~~~~~~~~~~~~~~~~~~~~~~~~~~~~~~~~~~~~~~~~~~~~~~~~~~~~~~~~~~~~~~~~~~~~~~~~~~~~~~~~~~~~~~~~~~~~~~~~~~~~~~~~~~~~~~~~~~~~~~~~~~~~~~~~~~~~~~~~~~~~~~~~~~~~~~~~~~~~~~~~~~~~~~~~~~~~~~~~~~~~~~~~~~~~~~~~~~~~~~~~~~~~~~~~~~~~~~~~~~~~~~~~~~~~~~~~~~~~~~~~~~~~~~~~~~~~~~~~~~~~~~~~~~~~~~~~~~~~~~~~~~~~~~~~~~~~~~~~~~~~~~~~~~~~~~~~~~~~~~~~~~~~~~~~~~~~~~~~~~~~~~~~~~~~~~~~~~~~~~~~~~~~~~~~~~~~~~~~~~~~~~~~~~~~~~~~~~~~~~~~~~~~~~~~~~~~~~~~~~~~~~~~~~~~~~~~~~~~~~~~~~~~~~~~~~~~~~~~~~~~~~~~~~~~~~~~~~~~~~~~~~~~~~~~~~~~~~~~~~~~~~~~~~~~~~~~~~~~~~~~~~~~~~~~~~~~~\\n>01c4.00.0369.001+1,7214c84c18b994abdd0dbf6a176a7407\\nttcactgttcggggccactagcaacaaagcttctgtaaacactcatgtgcaggtatttgtggacctgtgttttcatttcccttgagtaaataccaaggaatggaaaagatgggtcatatggtaagtgtatgtttaactttgtaagaa........actgtgttccaaagtggtgactgaattttccattcccgccaggaatgtacgagaaccacagtccttgccaacacttgatggtcactcttttatc~~~~~~~~~~~~~~~~~~~~~~~~~~~~~~~~~~~~~~~~~~~~~~~~~~~~~~~~~~~~~~~~~~~~~~~~~~~~~~~~~~~~~~~~~~~~~~~~~~~~~~~~~~~~~~~~~~~~~~~~~~~~~~~~~~~~~~~~~~~~~~~~~~~~~~~~~~~~~~~~~~~~~~~~~~~~~~~~~~~~~~~~~~~~~~~~~~~~~~~~~~~~~~~~~~~~~~~~~~~~~~~~~~~~~~~~~~~~~~~~~~~~~~~~~~~~~~~~~~~~~~~~~~~~~~~~~~~~~~~~~~~~~~~~~~~~~~~~~~~~~~~~~~~~~~~~~~~~~~~~~~~~~~~~~~~~~~~~~~~~~~~~~~~~~~~~~~~~~~~~~~~~~~~~~~~~~~~~~~~~~~~~~~~~~~~~~~~~~~~~~~~~~~~~~~~~~~~~~~~~~~~~~~~~~~~~~~~~~~~~~~~~~~~~~~~~~~~~~~~~~~~~~~~~~~~~~~~~~~~~~~~~~~~~~~~~~~~~~~~~~~~~~~~~~~~~~~~~~~~~~~~~~~~~~~~~~~~~~~~~~~~~~~~~~~~~~~~~~~~~~~~~~~~~~~~~~~~~~~~~~~~~~~~~~~~~~~~~~~~~~~~~~~~~~~~~~~~~~~~~~~~~~~~~~~~~~~~~~~~~~~~~~~~\\n>01c4.00.0369.002+1,34c37138df011524d54aec04d3f2d723\\nttcactgttcggggccactagcaacaaagcttctgtaaacactcatgtgcaggtatttgtggacctgtgttttcatttcccttgagtaaataccaaggaatggaaaagatgggtcatatggtaagtgtatgtttaactttgtaagaaactgccaaactgtgttccaaagtggtgactgaattttccattcccaccaggaatgtacgagaaccacagtccttgccaacacttgatggtcactcttttatc~~~~~~~~~~~~~~~~~~~~~~~~~~~~~~~~~~~~~~~~~~~~~~~~~~~~~~~~~~~~~~~~~~~~~~~~~~~~~~~~~~~~~~~~~~~~~~~~~~~~~~~~~~~~~~~~~~~~~~~~~~~~~~~~~~~~~~~~~~~~~~~~~~~~~~~~~~~~~~~~~~~~~~~~~~~~~~~~~~~~~~~~~~~~~~~~~~~~~~~~~~~~~~~~~~~~~~~~~~~~~~~~~~~~~~~~~~~~~~~~~~~~~~~~~~~~~~~~~~~~~~~~~~~~~~~~~~~~~~~~~~~~~~~~~~~~~~~~~~~~~~~~~~~~~~~~~~~~~~~~~~~~~~~~~~~~~~~~~~~~~~~~~~~~~~~~~~~~~~~~~~~~~~~~~~~~~~~~~~~~~~~~~~~~~~~~~~~~~~~~~~~~~~~~~~~~~~~~~~~~~~~~~~~~~~~~~~~~~~~~~~~~~~~~~~~~~~~~~~~~~~~~~~~~~~~~~~~~~~~~~~~~~~~~~~~~~~~~~~~~~~~~~~~~~~~~~~~~~~~~~~~~~~~~~~~~~~~~~~~~~~~~~~~~~~~~~~~~~~~~~~~~~~~~~~~~~~~~~~~~~~~~~~~~~~~~~~~~~~~~~~~~~~~~~~~~~~~~~~~~~~~~~~~~~~~~~~~~~~~~~~~~~~~\\n>01c4.00.0369.003+1,bc42c6d168b007e5278f4308fd4db955\\nttcactgttcggggccactagcaacaaagcttctgtaaacactcatgtgcaggtatttgtggacctgtgtcttcatttcccttgagtaaataccaaggaatggaaaagatgggtcatatggtaagtgtatgtttaactttgtaagaaactgccaaactgtgttccaaagtggtgactgaattttccattcccgccaggaatgtacgagaaccacagtccttgccaacacttgatggtcactcttttatc~~~~~~~~~~~~~~~~~~~~~~~~~~~~~~~~~~~~~~~~~~~~~~~~~~~~~~~~~~~~~~~~~~~~~~~~~~~~~~~~~~~~~~~~~~~~~~~~~~~~~~~~~~~~~~~~~~~~~~~~~~~~~~~~~~~~~~~~~~~~~~~~~~~~~~~~~~~~~~~~~~~~~~~~~~~~~~~~~~~~~~~~~~~~~~~~~~~~~~~~~~~~~~~~~~~~~~~~~~~~~~~~~~~~~~~~~~~~~~~~~~~~~~~~~~~~~~~~~~~~~~~~~~~~~~~~~~~~~~~~~~~~~~~~~~~~~~~~~~~~~~~~~~~~~~~~~~~~~~~~~~~~~~~~~~~~~~~~~~~~~~~~~~~~~~~~~~~~~~~~~~~~~~~~~~~~~~~~~~~~~~~~~~~~~~~~~~~~~~~~~~~~~~~~~~~~~~~~~~~~~~~~~~~~~~~~~~~~~~~~~~~~~~~~~~~~~~~~~~~~~~~~~~~~~~~~~~~~~~~~~~~~~~~~~~~~~~~~~~~~~~~~~~~~~~~~~~~~~~~~~~~~~~~~~~~~~~~~~~~~~~~~~~~~~~~~~~~~~~~~~~~~~~~~~~~~~~~~~~~~~~~~~~~~~~~~~~~~~~~~~~~~~~~~~~~~~~~~~~~~~~~~~~~~~~~~~~~~~~~~~~~~~~~\\n>01c4.00.0369.004+1,dbac4cca74cdfeecc02209020cf2529b\\nttcactgttcggggccactagcaacaaagcttctgtaaacactcatgtgcaggtatttgtggacctgtgtcttcatttcccttgagtaaataccaaggaatggaaaagatgggtcatatggtaagtgtatgtttaactttgtaagaa........actgtgttccaaagtggtgactgaattttccattcccgccaggaatgtacgagaaccacagtccttgccaacacttgatggtcactcttttatc~~~~~~~~~~~~~~~~~~~~~~~~~~~~~~~~~~~~~~~~~~~~~~~~~~~~~~~~~~~~~~~~~~~~~~~~~~~~~~~~~~~~~~~~~~~~~~~~~~~~~~~~~~~~~~~~~~~~~~~~~~~~~~~~~~~~~~~~~~~~~~~~~~~~~~~~~~~~~~~~~~~~~~~~~~~~~~~~~~~~~~~~~~~~~~~~~~~~~~~~~~~~~~~~~~~~~~~~~~~~~~~~~~~~~~~~~~~~~~~~~~~~~~~~~~~~~~~~~~~~~~~~~~~~~~~~~~~~~~~~~~~~~~~~~~~~~~~~~~~~~~~~~~~~~~~~~~~~~~~~~~~~~~~~~~~~~~~~~~~~~~~~~~~~~~~~~~~~~~~~~~~~~~~~~~~~~~~~~~~~~~~~~~~~~~~~~~~~~~~~~~~~~~~~~~~~~~~~~~~~~~~~~~~~~~~~~~~~~~~~~~~~~~~~~~~~~~~~~~~~~~~~~~~~~~~~~~~~~~~~~~~~~~~~~~~~~~~~~~~~~~~~~~~~~~~~~~~~~~~~~~~~~~~~~~~~~~~~~~~~~~~~~~~~~~~~~~~~~~~~~~~~~~~~~~~~~~~~~~~~~~~~~~~~~~~~~~~~~~~~~~~~~~~~~~~~~~~~~~~~~~~~~~~~~~~~~~~~~~~~~~~~~~~\\n>01c4.00.0369.005+2,10bbbac9978c3fa024c501b33bd66c1e\\nttcactgttcggggccactagcaacaaagcttctgtaaacactcatgtgcaggtatttgtggacctgtgttttcatttcccttgagtaaataccaaggaatggaaaagatgggtcatatggtaagtgtatgtttaactttgtaagaa........actgtgttccaaagtggtgactgaattttccattcccgccaggaatgtacgagaaccacagtccttgccaacacttgatggtcactctttttatcctttagccatgctagtggatgaggagtggtatctaagtgtgtccaatgactaaggaggtaaatcatcttttcatgtatttattggccatttgcttgcttcttatgaagcctgtccagatctttagctcattttattatttatttatttatttatttacttatatatatttttggggggcacagtcccactccagttgcccaggctggagtgtggtggcatgatcatggctcactacagcctcgacttcctgggctcaggtgatcctcccacctcagccttttgagtagctgagactataggcatgcaccacatctagctgattttttgtggttttggtagagatggggtttcaccatgttgcccaggctggtcttgaactcctgggcttaagcaatccacctgcctcagcctcccaatgtgctgggattacaggcataagccacctcacctggccctctatttttattttttttagacaggatcttactctgtcacccaggctggagtgcagtggcacgatcacagctcgctgcaacctcgaactcctgagcttaagtgatctttccccctcagcctcctgattaggtgggactacagacatgcaccaacatgcccggctaattattctactttttgtagacactg'"
      ]
     },
     "execution_count": 10,
     "metadata": {},
     "output_type": "execute_result"
    }
   ],
   "source": [
    "with open('clustal_fasta', 'w') as f:\n",
    "    f.write()\"\\n\".join(new_output))"
   ]
  },
  {
   "cell_type": "code",
   "execution_count": null,
   "metadata": {
    "collapsed": true
   },
   "outputs": [],
   "source": []
  }
 ],
 "metadata": {
  "kernelspec": {
   "display_name": "Python 2",
   "language": "python",
   "name": "python2"
  },
  "language_info": {
   "codemirror_mode": {
    "name": "ipython",
    "version": 2
   },
   "file_extension": ".py",
   "mimetype": "text/x-python",
   "name": "python",
   "nbconvert_exporter": "python",
   "pygments_lexer": "ipython2",
   "version": "2.7.12"
  }
 },
 "nbformat": 4,
 "nbformat_minor": 2
}
